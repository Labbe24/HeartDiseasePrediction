{
 "cells": [
  {
   "cell_type": "code",
   "execution_count": null,
   "id": "7bd4048e",
   "metadata": {},
   "outputs": [],
   "source": [
    "import pandas as pd\n",
    "\n",
    "data = pd.read_csv(\"../\")"
   ]
  },
  {
   "cell_type": "code",
   "execution_count": 1,
   "id": "24451db8",
   "metadata": {},
   "outputs": [],
   "source": [
    "from sklearn.neural_network import MLPClassifier\n"
   ]
  },
  {
   "cell_type": "code",
   "execution_count": 4,
   "id": "028492a6",
   "metadata": {},
   "outputs": [],
   "source": [
    "from numpy import mean\n",
    "from numpy import std\n",
    "from matplotlib import pyplot\n",
    "from sklearn.model_selection import KFold\n",
    "import tensorflow as tf\n",
    "from tensorflow import keras\n",
    "from keras.datasets import mnist\n",
    "from keras.utils import to_categorical\n",
    "from keras.models import Sequential\n",
    "from keras.layers import Conv2D\n",
    "from keras.layers import MaxPooling2D\n",
    "from keras.layers import Dense\n",
    "from keras.layers import Flatten\n",
    "from keras.layers import Dense\n",
    "from keras.layers import Dropout\n",
    "from keras.optimizers import SGD\n",
    "from functools import partial"
   ]
  },
  {
   "cell_type": "code",
   "execution_count": 8,
   "id": "cc37cd92",
   "metadata": {},
   "outputs": [],
   "source": [
    "#MLPClassifier\n",
    "#The classifier for the build up in this process of the nn.\n",
    "\n",
    "#Might run standard test and gridsearch test, the grid can be for alpha\n",
    "#test with solver sgd, because you can set learning rate and learningrate_init\n",
    "# define MLPClassifier model\n",
    "def define_model():\n",
    "    #can be used as a MLPRegressor if needed\n",
    "    model = MLPClassifier(hidden_layer_sizes=(100,100,100,100),activation='identity',solver='lbfgs',alpha=0.0001,learning_rate='constant',max_iter=1000)\n",
    "#set max iter higher if time is possible\n",
    "    \n",
    "#\tmodel = Sequential()\n",
    "#\tmodel.add(Conv2D(32, (3, 3), activation='relu', kernel_initializer='he_uniform', input_shape=(28, 28, 1)))\n",
    "#\tmodel.add(MaxPooling2D((2, 2)))\n",
    "#\tmodel.add(Flatten())\n",
    "#\tmodel.add(Dense(100, activation='relu', kernel_initializer='he_uniform'))\n",
    "#\tmodel.add(Dropout(0.5))\n",
    "#\tmodel.add(Dense(100, activation='relu', kernel_initializer='he_uniform'))\n",
    "#\tmodel.add(Dropout(0.5))\n",
    "#\tmodel.add(Dense(10, activation='softmax'))\n",
    "#\t# compile model\n",
    "#\topt = SGD(lr=0.01, momentum=0.9)\n",
    "#\tmodel.compile(optimizer=opt, loss='categorical_crossentropy', metrics=['accuracy'])\n",
    "    return model"
   ]
  },
  {
   "cell_type": "code",
   "execution_count": 9,
   "id": "f12a5ed1",
   "metadata": {},
   "outputs": [],
   "source": [
    "model = define_model()"
   ]
  },
  {
   "cell_type": "code",
   "execution_count": null,
   "id": "837bc893",
   "metadata": {},
   "outputs": [],
   "source": []
  }
 ],
 "metadata": {
  "kernelspec": {
   "display_name": "Python 3",
   "language": "python",
   "name": "python3"
  },
  "language_info": {
   "codemirror_mode": {
    "name": "ipython",
    "version": 3
   },
   "file_extension": ".py",
   "mimetype": "text/x-python",
   "name": "python",
   "nbconvert_exporter": "python",
   "pygments_lexer": "ipython3",
   "version": "3.8.8"
  }
 },
 "nbformat": 4,
 "nbformat_minor": 5
}
